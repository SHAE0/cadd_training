{
 "cells": [
  {
   "cell_type": "code",
   "execution_count": null,
   "id": "d7340130",
   "metadata": {},
   "outputs": [],
   "source": [
    "import json\n",
    "import numpy as np\n",
    "import pandas as pd\n",
    "from tqdm import tqdm\n",
    "from rdkit import Chem\n",
    "import os\n",
    "from rdkit import Chem\n",
    "from rdkit.Chem import AllChem\n",
    "from rdkit.Chem import rdMolAlign"
   ]
  },
  {
   "cell_type": "code",
   "execution_count": 39,
   "id": "a574f76a",
   "metadata": {},
   "outputs": [],
   "source": [
    "base_dir = '/home/shaeo/cadd_training/20250906_unimol-docking2'\n",
    "unimol_dir = '/home/shaeo/opt/Uni-Mol'"
   ]
  },
  {
   "cell_type": "markdown",
   "id": "944f2283",
   "metadata": {},
   "source": [
    "## インプット用のリガンドファイル作成"
   ]
  },
  {
   "cell_type": "code",
   "execution_count": 90,
   "id": "15b4af96",
   "metadata": {},
   "outputs": [],
   "source": [
    "list_ligs = [\n",
    "    '5HG8', '5UG8', '5UG9', '5UGC'\n",
    "]\n",
    "for lig in list_ligs:\n",
    "    sup = Chem.SDMolSupplier(base_dir + f'/data/ligand_{lig}.sdf', removeHs=False)\n",
    "    mol = sup[0]\n",
    "    mol.RemoveAllConformers()   # 配座を削除\n",
    "\n",
    "    # 3D埋め込み（ETKDGv3）\n",
    "    #params = AllChem.ETKDGv3()\n",
    "    #AllChem.EmbedMolecule(mol, params)\n",
    "    #AllChem.UFFOptimizeMolecule(mol, maxIters=500) # リラクゼーション\n",
    "\n",
    "    Chem.MolToMolFile(mol, base_dir + f'/data/input_{lig}.sdf')\n"
   ]
  },
  {
   "cell_type": "markdown",
   "id": "87a42bc2",
   "metadata": {},
   "source": [
    "## Gridファイルの作成\n",
    "- リドッキング、クロスドッキング用に5HG8をベースとして作成"
   ]
  },
  {
   "cell_type": "code",
   "execution_count": 85,
   "id": "a7a2e488",
   "metadata": {},
   "outputs": [],
   "source": [
    "def calculated_docking_grid_sdf(ligand_path, json_path, add_size=10):\n",
    "    mol = Chem.MolFromMolFile(str(ligand_path), sanitize=False)\n",
    "    coords = mol.GetConformer(0).GetPositions().astype(np.float32)\n",
    "    min_xyz = [min(coord[i] for coord in coords) for i in range(3)]\n",
    "    max_xyz = [max(coord[i] for coord in coords) for i in range(3)]\n",
    "    center = np.mean(coords, axis=0)\n",
    "    size = [abs(max_xyz[i] - min_xyz[i]) for i in range(3)]\n",
    "    center_x, center_y, center_z = center\n",
    "    size_x, size_y, size_z = size\n",
    "    size_x = size_x + add_size\n",
    "    size_y = size_y + add_size\n",
    "    size_z = size_z + add_size\n",
    "    grid_info = {\n",
    "        \"center_x\": float(center_x),\n",
    "        \"center_y\": float(center_y),\n",
    "        \"center_z\": float(center_z),\n",
    "        \"size_x\": float(size_x),\n",
    "        \"size_y\": float(size_y),\n",
    "        \"size_z\": float(size_z)\n",
    "    }\n",
    "    with open(json_path, 'w') as f:\n",
    "        json.dump(grid_info, f, indent=4)\n",
    "    print('Center: ({:.6f}, {:.6f}, {:.6f})'.format(center_x, center_y, center_z))\n",
    "    print('Size: ({:.6f}, {:.6f}, {:.6f})'.format(size_x, size_y, size_z))"
   ]
  },
  {
   "cell_type": "code",
   "execution_count": 86,
   "id": "4b6be9fc",
   "metadata": {},
   "outputs": [
    {
     "name": "stdout",
     "output_type": "stream",
     "text": [
      "Center: (-14.236317, 15.683612, -26.085293)\n",
      "Size: (19.967600, 18.967199, 21.901600)\n"
     ]
    }
   ],
   "source": [
    "ligand_path = base_dir + '/data/ligand_5HG8.sdf'\n",
    "grid_path = base_dir + f'/data/grid_5HG8_as{add_size}.json'\n",
    "calculated_docking_grid_sdf(ligand_path, grid_path, add_size=10)"
   ]
  },
  {
   "cell_type": "markdown",
   "id": "ad0ea8ff",
   "metadata": {},
   "source": [
    "## メタ情報のファイル作成"
   ]
  },
  {
   "cell_type": "code",
   "execution_count": 87,
   "id": "c71ce128",
   "metadata": {},
   "outputs": [
    {
     "name": "stderr",
     "output_type": "stream",
     "text": [
      "4it [00:00, 1243.03it/s]"
     ]
    },
    {
     "name": "stdout",
     "output_type": "stream",
     "text": [
      "<class 'pandas.core.frame.DataFrame'>\n",
      "Index: 4 entries, 0 to 3\n",
      "Data columns (total 4 columns):\n",
      " #   Column              Non-Null Count  Dtype \n",
      "---  ------              --------------  ----- \n",
      " 0   input_protein       4 non-null      object\n",
      " 1   input_ligand        4 non-null      object\n",
      " 2   input_docking_grid  4 non-null      object\n",
      " 3   output_ligand_name  4 non-null      object\n",
      "dtypes: object(4)\n",
      "memory usage: 160.0+ bytes\n",
      "None\n",
      "                                       input_protein  \\\n",
      "0  /home/stake/cadd_training/20250906_unimol-dock...   \n",
      "1  /home/stake/cadd_training/20250906_unimol-dock...   \n",
      "2  /home/stake/cadd_training/20250906_unimol-dock...   \n",
      "\n",
      "                                        input_ligand  \\\n",
      "0  /home/stake/cadd_training/20250906_unimol-dock...   \n",
      "1  /home/stake/cadd_training/20250906_unimol-dock...   \n",
      "2  /home/stake/cadd_training/20250906_unimol-dock...   \n",
      "\n",
      "                                  input_docking_grid output_ligand_name  \n",
      "0  /home/stake/cadd_training/20250906_unimol-dock...        docked_5HG8  \n",
      "1  /home/stake/cadd_training/20250906_unimol-dock...        docked_5UG8  \n",
      "2  /home/stake/cadd_training/20250906_unimol-dock...        docked_5UG9  \n"
     ]
    },
    {
     "name": "stderr",
     "output_type": "stream",
     "text": [
      "\n"
     ]
    }
   ],
   "source": [
    "result_dir = base_dir + '/result'\n",
    "os.makedirs(result_dir, exist_ok=True)\n",
    "df = pd.DataFrame(columns=['input_protein', 'input_ligand', 'input_docking_grid', 'output_ligand_name'])\n",
    "meta_info_file = result_dir + '/test_one2one.csv'\n",
    "protein_path = base_dir + '/data/receptor_5HG8.pdb'\n",
    "for i, lig in tqdm(enumerate(list_ligs)):\n",
    "    ligand_path = base_dir + f'/data/input_{lig}.sdf'\n",
    "    predict_name = f'docked_{lig}'\n",
    "    df.loc[i] = [protein_path, ligand_path, grid_path, predict_name]\n",
    "print(df.info())\n",
    "print(df.head(3))\n",
    "df.to_csv(meta_info_file, index= False)"
   ]
  },
  {
   "cell_type": "markdown",
   "id": "3250996e",
   "metadata": {},
   "source": [
    "## ドッキングシミュレーション"
   ]
  },
  {
   "cell_type": "code",
   "execution_count": 91,
   "id": "797fe8a8",
   "metadata": {},
   "outputs": [
    {
     "name": "stdout",
     "output_type": "stream",
     "text": [
      "Namespace(model_dir='/home/stake/opt/Uni-Mol/unimol_docking_v2_240517.pt', input_protein='protein.pdb', input_ligand='ligand.sdf', input_batch_file='/home/stake/cadd_training/20250906_unimol-docking2/result/test_one2one.csv', input_docking_grid='docking_grid.json', output_ligand_name='ligand_predict', output_ligand_dir='/home/stake/cadd_training/20250906_unimol-docking2/result', mode='batch_one2one', batch_size=8, nthreads=8, conf_size=10, cluster=True, use_current_ligand_conf=False, steric_clash_fix=True)\n",
      "Start preprocessing data...\n",
      "Number of ligands: 4\n"
     ]
    },
    {
     "name": "stderr",
     "output_type": "stream",
     "text": [
      "4it [00:07,  2.00s/it]\n"
     ]
    },
    {
     "name": "stdout",
     "output_type": "stream",
     "text": [
      "Total num: 4, Success: 4, Failed: 0\n",
      "Done!\n",
      "fused_multi_tensor is not installed corrected\n",
      "fused_rounding is not installed corrected\n",
      "fused_layer_norm is not installed corrected\n",
      "fused_rms_norm is not installed corrected\n",
      "fused_softmax is not installed corrected\n",
      "2025-09-06 14:37:02 | INFO | unimol.inference | loading model(s) from /home/stake/opt/Uni-Mol/unimol_docking_v2_240517.pt\n",
      "2025-09-06 14:37:03 | INFO | unimol.tasks.docking_pose_v2 | ligand dictionary: 30 types\n",
      "2025-09-06 14:37:03 | INFO | unimol.tasks.docking_pose_v2 | pocket dictionary: 9 types\n",
      "2025-09-06 14:37:04 | INFO | unimol.inference | Namespace(no_progress_bar=False, log_interval=50, log_format='simple', tensorboard_logdir='', wandb_project='', wandb_name='', seed=1, cpu=False, fp16=True, bf16=False, bf16_sr=False, allreduce_fp32_grad=False, fp16_no_flatten_grads=False, fp16_init_scale=4, fp16_scale_window=256, fp16_scale_tolerance=0.0, min_loss_scale=0.0001, threshold_loss_scale=None, user_dir='/home/stake/opt/Uni-Mol/unimol_docking_v2/unimol', empty_cache_freq=0, all_gather_list_size=16384, suppress_crashes=False, profile=False, ema_decay=-1.0, validate_with_ema=False, loss='docking_pose_v2', optimizer='adam', lr_scheduler='fixed', task='docking_pose_v2', num_workers=8, skip_invalid_size_inputs_valid_test=False, batch_size=8, required_batch_size_multiple=1, data_buffer_size=10, train_subset='train', valid_subset='batch_data', validate_interval=1, validate_interval_updates=0, validate_after_updates=0, fixed_validation_seed=None, disable_validation=False, batch_size_valid=8, max_valid_steps=None, curriculum=0, distributed_world_size=1, distributed_rank=0, distributed_backend='nccl', distributed_init_method=None, distributed_port=-1, device_id=0, distributed_no_spawn=False, ddp_backend='c10d', bucket_cap_mb=25, fix_batches_to_gpus=False, find_unused_parameters=False, fast_stat_sync=False, broadcast_buffers=False, nprocs_per_node=1, path='/home/stake/opt/Uni-Mol/unimol_docking_v2_240517.pt', quiet=False, model_overrides='{}', results_path='/home/stake/cadd_training/20250906_unimol-docking2/result', arch='docking_pose_v2', recycling=4, data='/home/stake/cadd_training/20250906_unimol-docking2/result', finetune_mol_model=None, finetune_pocket_model=None, conf_size=10, dist_threshold=8.0, max_pocket_atoms=256, adam_betas='(0.9, 0.999)', adam_eps=1e-08, weight_decay=0.0, force_anneal=None, lr_shrink=0.1, warmup_updates=0, no_seed_provided=False, mol=Namespace(encoder_layers=15, encoder_embed_dim=512, encoder_ffn_embed_dim=2048, encoder_attention_heads=64, dropout=0.1, emb_dropout=0.1, attention_dropout=0.1, activation_dropout=0.0, pooler_dropout=0.0, max_seq_len=512, activation_fn='gelu', pooler_activation_fn='tanh', post_ln=False, masked_token_loss=-1.0, masked_coord_loss=-1.0, masked_dist_loss=-1.0, x_norm_loss=-1.0, delta_pair_repr_norm_loss=-1.0), pocket=Namespace(encoder_layers=15, encoder_embed_dim=512, encoder_ffn_embed_dim=2048, encoder_attention_heads=64, dropout=0.1, emb_dropout=0.1, attention_dropout=0.1, activation_dropout=0.0, pooler_dropout=0.0, max_seq_len=512, activation_fn='gelu', pooler_activation_fn='tanh', post_ln=False, masked_token_loss=-1.0, masked_coord_loss=-1.0, masked_dist_loss=-1.0, x_norm_loss=-1.0, delta_pair_repr_norm_loss=-1.0), encoder_layers=15, encoder_embed_dim=512, encoder_ffn_embed_dim=2048, encoder_attention_heads=64, dropout=0.1, emb_dropout=0.1, attention_dropout=0.1, activation_dropout=0.0, pooler_dropout=0.0, max_seq_len=512, activation_fn='gelu', pooler_activation_fn='tanh', post_ln=False, masked_token_loss=-1.0, masked_coord_loss=-1.0, masked_dist_loss=-1.0, x_norm_loss=-1.0, delta_pair_repr_norm_loss=-1.0, distributed_num_procs=1)\n",
      "2025-09-06 14:37:04 | INFO | unicore.tasks.unicore_task | get EpochBatchIterator for epoch 1\n"
     ]
    },
    {
     "name": "stderr",
     "output_type": "stream",
     "text": [
      "/home/stake/miniconda3/envs/unimol-docking2/lib/python3.10/site-packages/torch/optim/lbfgs.py:457: UserWarning: Converting a tensor with requires_grad=True to a scalar may lead to unexpected behavior.\n",
      "Consider using tensor.detach() first. (Triggered internally at /pytorch/torch/csrc/autograd/generated/python_variable_methods.cpp:835.)\n",
      "  loss = float(closure())\n"
     ]
    },
    {
     "name": "stdout",
     "output_type": "stream",
     "text": [
      "2025-09-06 14:37:15 | INFO | unimol.inference | Done inference! \n",
      "Start converting model predictions into sdf files...\n"
     ]
    },
    {
     "name": "stderr",
     "output_type": "stream",
     "text": [
      "100%|██████████| 4/4 [00:00<00:00, 1861.86it/s]"
     ]
    },
    {
     "name": "stdout",
     "output_type": "stream",
     "text": [
      "Done!\n"
     ]
    },
    {
     "name": "stderr",
     "output_type": "stream",
     "text": [
      "\n",
      "  0%|          | 0/4 [00:00<?, ?it/s]"
     ]
    },
    {
     "name": "stdout",
     "output_type": "stream",
     "text": [
      "/home/stake/cadd_training/20250906_unimol-docking2/result/docked_5HG8.sdf-CCC(=O)Nc1cccc(Oc2nc(Nc3cnn(C)c3)nc3[nH]ccc23)c1-RMSD:35.386\n",
      "/home/stake/cadd_training/20250906_unimol-docking2/result/docked_5UG8.sdf-CCC(=O)N[C@@H]1CN(c2nc(Nc3cnn(C)c3)c3ncn(C(C)C)c3n2)C[C@@H]1F-RMSD:35.6295\n",
      "/home/stake/cadd_training/20250906_unimol-docking2/result/docked_5UGC.sdf-CCC(=O)N[C@H]1CN(c2nc(Nc3cn(C)nc3OC)c3ncn(C)c3n2)C[C@@H]1F-RMSD:36.3474\n"
     ]
    },
    {
     "name": "stderr",
     "output_type": "stream",
     "text": [
      " 25%|██▌       | 1/4 [00:05<00:16,  5.49s/it]"
     ]
    },
    {
     "name": "stdout",
     "output_type": "stream",
     "text": [
      "/home/stake/cadd_training/20250906_unimol-docking2/result/docked_5UG9.sdf-CCC(=O)N[C@H]1CN(c2nc(Nc3cn(C)nc3OC)c3ncn(C(C)C)c3n2)C[C@@H]1F-RMSD:35.5306\n"
     ]
    },
    {
     "name": "stderr",
     "output_type": "stream",
     "text": [
      "100%|██████████| 4/4 [00:06<00:00,  1.61s/it]"
     ]
    },
    {
     "name": "stdout",
     "output_type": "stream",
     "text": [
      "output ligands path:\n",
      " ['/home/stake/cadd_training/20250906_unimol-docking2/result/docked_5HG8.sdf', '/home/stake/cadd_training/20250906_unimol-docking2/result/docked_5UG8.sdf', '/home/stake/cadd_training/20250906_unimol-docking2/result/docked_5UG9.sdf', '/home/stake/cadd_training/20250906_unimol-docking2/result/docked_5UGC.sdf']\n",
      "Average time:  7.528137445449829 sec.\n",
      "Total time:  30.112549781799316 sec.\n",
      "All processes done!\n"
     ]
    },
    {
     "name": "stderr",
     "output_type": "stream",
     "text": [
      "\n"
     ]
    }
   ],
   "source": [
    "%run $unimol_dir/unimol_docking_v2/interface/demo.py \\\n",
    "    --mode batch_one2one \\\n",
    "    --batch-size 8 \\\n",
    "    --steric-clash-fix \\\n",
    "    --conf-size 10 \\\n",
    "    --cluster \\\n",
    "    --input-batch-file $meta_info_file \\\n",
    "    --output-ligand-dir $result_dir \\\n",
    "    --model-dir $unimol_dir/unimol_docking_v2_240517.pt"
   ]
  },
  {
   "cell_type": "markdown",
   "id": "0c5a580f",
   "metadata": {},
   "source": [
    "## RMSD算出"
   ]
  },
  {
   "cell_type": "code",
   "execution_count": null,
   "id": "e9e0acf7",
   "metadata": {},
   "outputs": [],
   "source": [
    "def substructure_rmsd(ref_mol, prb_mol, smarts):\n",
    "    ref = Chem.RemoveHs(ref_mol, sanitize=False)\n",
    "    prb = Chem.RemoveHs(prb_mol, sanitize=False)\n",
    "    rms = rdMolAlign.GetBestRMS(prb, ref)\n",
    "    return rms"
   ]
  },
  {
   "cell_type": "code",
   "execution_count": 144,
   "id": "6fd7fcf7",
   "metadata": {},
   "outputs": [
    {
     "name": "stdout",
     "output_type": "stream",
     "text": [
      "5HG8 RMSD 0.545Å\n",
      "5UG8 RMSD 1.160Å\n",
      "5UG9 RMSD 0.928Å\n",
      "5UGC RMSD 1.158Å\n"
     ]
    }
   ],
   "source": [
    "for lig in list_ligs:\n",
    "    ref_sup = Chem.SDMolSupplier(base_dir + f'/data/ligand_{lig}.sdf', removeHs=False, sanitize=False)\n",
    "    prb_sup = Chem.SDMolSupplier(result_dir + f'/docked_{lig}.sdf', removeHs=False, sanitize=False)\n",
    "    ref_mol = ref_sup[0]\n",
    "    prb_mol = prb_sup[0]\n",
    "    smarts = Chem.MolToSmarts(prb_mol)\n",
    "    rms = substructure_rmsd(ref_mol, prb_mol, smarts)\n",
    "    print(lig, f'RMSD {rms:.3f}Å')"
   ]
  },
  {
   "cell_type": "code",
   "execution_count": null,
   "id": "03132476",
   "metadata": {},
   "outputs": [],
   "source": []
  }
 ],
 "metadata": {
  "kernelspec": {
   "display_name": "unimol-docking2",
   "language": "python",
   "name": "python3"
  },
  "language_info": {
   "codemirror_mode": {
    "name": "ipython",
    "version": 3
   },
   "file_extension": ".py",
   "mimetype": "text/x-python",
   "name": "python",
   "nbconvert_exporter": "python",
   "pygments_lexer": "ipython3",
   "version": "3.10.18"
  }
 },
 "nbformat": 4,
 "nbformat_minor": 5
}
