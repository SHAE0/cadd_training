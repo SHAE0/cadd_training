{
 "cells": [
  {
   "cell_type": "code",
   "execution_count": 1,
   "id": "28153507",
   "metadata": {},
   "outputs": [],
   "source": [
    "base_dir = '/home/shaeo/cadd_training/20250915_nvmolkit'\n",
    "nvmolkit_dir = '/home/shaeo/opt/nvMolKit'"
   ]
  },
  {
   "cell_type": "code",
   "execution_count": 2,
   "id": "b311bfed",
   "metadata": {},
   "outputs": [],
   "source": [
    "import os\n",
    "import time\n",
    "from rdkit import Chem\n",
    "from rdkit.Chem.rdDistGeom import ETKDGv3\n",
    "from nvmolkit.embedMolecules import EmbedMolecules as nvMolKitEmbed\n",
    "from nvmolkit.types import HardwareOptions\n",
    "from nvmolkit.mmffOptimization import MMFFOptimizeMoleculesConfs as nvMolKitMMFFOptimize"
   ]
  },
  {
   "cell_type": "code",
   "execution_count": 6,
   "id": "53aecd2f",
   "metadata": {},
   "outputs": [],
   "source": [
    "# Configuration\n",
    "SDF_FILE = nvmolkit_dir + '/benchmarks/data/MPCONF196.sdf'\n",
    "MAX_MOLECULES = 50\n",
    "CONFORMERS_PER_MOLECULE = 5\n",
    "RANDOM_SEED = 42"
   ]
  },
  {
   "cell_type": "code",
   "execution_count": 7,
   "id": "e897d82c",
   "metadata": {},
   "outputs": [],
   "source": [
    "# Setup ETKDG parameters\n",
    "params = ETKDGv3()\n",
    "params.randomSeed = RANDOM_SEED\n",
    "params.useRandomCoords = True  # Required for nvMolKit"
   ]
  },
  {
   "cell_type": "markdown",
   "id": "196686dc",
   "metadata": {},
   "source": [
    "## SDFから分子を読み込む"
   ]
  },
  {
   "cell_type": "code",
   "execution_count": 8,
   "id": "776df463",
   "metadata": {},
   "outputs": [
    {
     "name": "stdout",
     "output_type": "stream",
     "text": [
      "Successfully loaded 50 molecules from /home/stake/opt/nvMolKit/benchmarks/data/MPCONF196.sdf\n"
     ]
    }
   ],
   "source": [
    "if not os.path.exists(SDF_FILE):\n",
    "    raise FileNotFoundError(f\"SDF file not found: {SDF_FILE}\")\n",
    "\n",
    "supplier = Chem.SDMolSupplier(SDF_FILE, removeHs=False, sanitize=True)\n",
    "molecules = []\n",
    "\n",
    "for i, mol in enumerate(supplier):\n",
    "    if mol is None:\n",
    "        continue\n",
    "    if i >= MAX_MOLECULES:\n",
    "        break\n",
    "    \n",
    "    # Clear any existing conformers for clean embedding tests\n",
    "    mol.RemoveAllConformers()\n",
    "    molecules.append(mol)\n",
    "\n",
    "print(f\"Successfully loaded {len(molecules)} molecules from {SDF_FILE}\")"
   ]
  },
  {
   "cell_type": "markdown",
   "id": "4bba3e04",
   "metadata": {},
   "source": [
    "## コンフォメーション生成：GPU"
   ]
  },
  {
   "cell_type": "code",
   "execution_count": 9,
   "id": "1b1d01ee",
   "metadata": {},
   "outputs": [
    {
     "name": "stdout",
     "output_type": "stream",
     "text": [
      "Conformer generation completed in 5.78 seconds\n",
      "Generated 233 total conformers\n",
      "Rate: 40.3 conformers/second\n"
     ]
    }
   ],
   "source": [
    "hardware_opts = HardwareOptions(\n",
    "    preprocessingThreads=2,\n",
    "    batchSize=25,\n",
    "    batchesPerGpu=2,\n",
    ")\n",
    "\n",
    "start_time = time.time()\n",
    "\n",
    "nvMolKitEmbed(\n",
    "    molecules=molecules,\n",
    "    params=params,\n",
    "    confsPerMolecule=CONFORMERS_PER_MOLECULE,\n",
    "    maxIterations=-1,  # Automatic iteration calculation\n",
    "    hardwareOptions=hardware_opts\n",
    ")\n",
    "\n",
    "embedding_time = time.time() - start_time\n",
    "total_conformers = sum(mol.GetNumConformers() for mol in molecules)\n",
    "\n",
    "print(f\"Conformer generation completed in {embedding_time:.2f} seconds\")\n",
    "print(f\"Generated {total_conformers} total conformers\")\n",
    "print(f\"Rate: {total_conformers/embedding_time:.1f} conformers/second\")\n"
   ]
  },
  {
   "cell_type": "markdown",
   "id": "73a14ff3",
   "metadata": {},
   "source": [
    "## コンフォメーション最適化：GPU"
   ]
  },
  {
   "cell_type": "code",
   "execution_count": 10,
   "id": "2069a6a7",
   "metadata": {},
   "outputs": [
    {
     "name": "stdout",
     "output_type": "stream",
     "text": [
      "MMFF optimization completed in 1.32 seconds\n",
      "Rate: 177.1 conformers/second\n"
     ]
    }
   ],
   "source": [
    "mmff_hardware_opts = HardwareOptions(\n",
    "    preprocessingThreads=4,\n",
    "    batchSize=0,  # Process all conformers together\n",
    ")\n",
    "\n",
    "total_conformers = sum(mol.GetNumConformers() for mol in molecules)\n",
    "start_time = time.time()\n",
    "\n",
    "energies = nvMolKitMMFFOptimize(\n",
    "    molecules=molecules,\n",
    "    maxIters=200,\n",
    "    nonBondedThreshold=100.0,\n",
    "    hardwareOptions=mmff_hardware_opts\n",
    ")\n",
    "\n",
    "optimization_time = time.time() - start_time\n",
    "\n",
    "print(f\"MMFF optimization completed in {optimization_time:.2f} seconds\")\n",
    "print(f\"Rate: {total_conformers/optimization_time:.1f} conformers/second\")"
   ]
  },
  {
   "cell_type": "markdown",
   "id": "62784105",
   "metadata": {},
   "source": [
    "## コンフォメーション生成：CPU"
   ]
  },
  {
   "cell_type": "code",
   "execution_count": 20,
   "id": "9323076f",
   "metadata": {},
   "outputs": [],
   "source": [
    "from rdkit.Chem import AllChem"
   ]
  },
  {
   "cell_type": "code",
   "execution_count": 22,
   "id": "59453a07",
   "metadata": {},
   "outputs": [],
   "source": [
    "params = AllChem.ETKDGv3()\n",
    "params.numThreads = 16\n",
    "params.randomSeed = RANDOM_SEED\n",
    "params.useRandomCoords = True"
   ]
  },
  {
   "cell_type": "code",
   "execution_count": 23,
   "id": "d08badb8",
   "metadata": {},
   "outputs": [
    {
     "name": "stdout",
     "output_type": "stream",
     "text": [
      "Conformer generation completed in 96.09 seconds\n",
      "Generated 248 total conformers\n",
      "Rate: 2.6 conformers/second\n"
     ]
    }
   ],
   "source": [
    "# コンフォメーションをリセット\n",
    "for mol in molecules:\n",
    "    mol.RemoveAllConformers()\n",
    "\n",
    "start_time = time.time()\n",
    "\n",
    "for mol in molecules:\n",
    "    AllChem.EmbedMultipleConfs(mol, numConfs=5, params=AllChem.ETKDGv3())\n",
    "\n",
    "embedding_time = time.time() - start_time\n",
    "total_conformers = sum(mol.GetNumConformers() for mol in molecules)\n",
    "\n",
    "print(f\"Conformer generation completed in {embedding_time:.2f} seconds\")\n",
    "print(f\"Generated {total_conformers} total conformers\")\n",
    "print(f\"Rate: {total_conformers/embedding_time:.1f} conformers/second\")\n"
   ]
  },
  {
   "cell_type": "markdown",
   "id": "439e79f0",
   "metadata": {},
   "source": [
    "## コンフォメーション最適化：CPU"
   ]
  },
  {
   "cell_type": "code",
   "execution_count": 25,
   "id": "85c6bcd0",
   "metadata": {},
   "outputs": [
    {
     "name": "stdout",
     "output_type": "stream",
     "text": [
      "MMFF optimization completed in 4.43 seconds\n",
      "Rate: 56.0 conformers/second\n"
     ]
    }
   ],
   "source": [
    "total_conformers = sum(mol.GetNumConformers() for mol in molecules)\n",
    "start_time = time.time()\n",
    "\n",
    "for mol in molecules:\n",
    "    results = AllChem.MMFFOptimizeMoleculeConfs(\n",
    "        mol,\n",
    "        numThreads=16,\n",
    "        maxIters=200,\n",
    "        nonBondedThresh=100.0,\n",
    "    )\n",
    "\n",
    "optimization_time = time.time() - start_time\n",
    "\n",
    "print(f\"MMFF optimization completed in {optimization_time:.2f} seconds\")\n",
    "print(f\"Rate: {total_conformers/optimization_time:.1f} conformers/second\")"
   ]
  },
  {
   "cell_type": "code",
   "execution_count": null,
   "id": "86539ece",
   "metadata": {},
   "outputs": [],
   "source": []
  }
 ],
 "metadata": {
  "kernelspec": {
   "display_name": "nvmolkit_dev_py312",
   "language": "python",
   "name": "python3"
  },
  "language_info": {
   "codemirror_mode": {
    "name": "ipython",
    "version": 3
   },
   "file_extension": ".py",
   "mimetype": "text/x-python",
   "name": "python",
   "nbconvert_exporter": "python",
   "pygments_lexer": "ipython3",
   "version": "3.12.1"
  }
 },
 "nbformat": 4,
 "nbformat_minor": 5
}
